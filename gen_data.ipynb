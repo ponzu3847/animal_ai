{
 "metadata": {
  "language_info": {
   "codemirror_mode": {
    "name": "ipython",
    "version": 3
   },
   "file_extension": ".py",
   "mimetype": "text/x-python",
   "name": "python",
   "nbconvert_exporter": "python",
   "pygments_lexer": "ipython3",
   "version": "3.8.3"
  },
  "orig_nbformat": 2,
  "kernelspec": {
   "name": "python3",
   "display_name": "Python 3.8.3 64-bit ('3.8.3': pyenv)",
   "metadata": {
    "interpreter": {
     "hash": "85c15e2fd11ddf6f8f5917b197f257a455d4a542cdc5a8fe7d02a36f1aa3fc84"
    }
   }
  }
 },
 "nbformat": 4,
 "nbformat_minor": 2,
 "cells": [
  {
   "cell_type": "code",
   "execution_count": 5,
   "metadata": {},
   "outputs": [
    {
     "output_type": "stream",
     "name": "stderr",
     "text": [
      "/Users/user/.pyenv/versions/3.8.3/lib/python3.8/site-packages/numpy/core/_asarray.py:136: VisibleDeprecationWarning: Creating an ndarray from ragged nested sequences (which is a list-or-tuple of lists-or-tuples-or ndarrays with different lengths or shapes) is deprecated. If you meant to do this, you must specify 'dtype=object' when creating the ndarray\n  return array(a, dtype, copy=False, order=order, subok=True)\n"
     ]
    }
   ],
   "source": [
    "from PIL import Image\n",
    "import os,glob\n",
    "import numpy as np\n",
    "from sklearn import model_selection\n",
    "\n",
    "classes=['monkey','boar','crow']\n",
    "num_classes=len(classes)\n",
    "image_size=50\n",
    "\n",
    "X=[]\n",
    "Y=[]\n",
    "\n",
    "for index,class_label in enumerate(classes):\n",
    "    photos_dir='./'+class_label\n",
    "    files=glob.glob(photos_dir+'/*.jpg')\n",
    "    for i,file in enumerate(files):\n",
    "        if i >=200: break\n",
    "        image=Image.open(file)\n",
    "        image=image.convert('RGB')\n",
    "        image=image.resize((image_size,image_size))\n",
    "        data=np.asarray(image)\n",
    "        X.append(data)\n",
    "        Y.append(index)\n",
    "\n",
    "X=np.array(X)\n",
    "Y=np.array(Y)\n",
    "\n",
    "x_train,x_test,y_train,y_test=model_selection.train_test_split(X,Y)\n",
    "xy=(x_train,x_test,y_train,y_test)\n",
    "np.save('animal.npy',xy)"
   ]
  },
  {
   "cell_type": "code",
   "execution_count": 3,
   "metadata": {},
   "outputs": [
    {
     "output_type": "execute_result",
     "data": {
      "text/plain": [
       "(600, 50, 50, 3)"
      ]
     },
     "metadata": {},
     "execution_count": 3
    }
   ],
   "source": [
    "X.shape"
   ]
  },
  {
   "cell_type": "code",
   "execution_count": 4,
   "metadata": {},
   "outputs": [
    {
     "output_type": "execute_result",
     "data": {
      "text/plain": [
       "(600,)"
      ]
     },
     "metadata": {},
     "execution_count": 4
    }
   ],
   "source": [
    "Y.shape"
   ]
  },
  {
   "cell_type": "code",
   "execution_count": 6,
   "metadata": {},
   "outputs": [
    {
     "output_type": "execute_result",
     "data": {
      "text/plain": [
       "(450, 50, 50, 3)"
      ]
     },
     "metadata": {},
     "execution_count": 6
    }
   ],
   "source": [
    "x_train.shape"
   ]
  },
  {
   "cell_type": "code",
   "execution_count": 7,
   "metadata": {},
   "outputs": [
    {
     "output_type": "execute_result",
     "data": {
      "text/plain": [
       "(150, 50, 50, 3)"
      ]
     },
     "metadata": {},
     "execution_count": 7
    }
   ],
   "source": [
    "x_test.shape"
   ]
  },
  {
   "cell_type": "code",
   "execution_count": 8,
   "metadata": {},
   "outputs": [
    {
     "output_type": "execute_result",
     "data": {
      "text/plain": [
       "array([[[ 77,  79,  56],\n",
       "        [ 97,  96,  79],\n",
       "        [105, 104,  81],\n",
       "        ...,\n",
       "        [ 53,  54,  28],\n",
       "        [ 92,  86,  64],\n",
       "        [113, 107,  91]],\n",
       "\n",
       "       [[ 62,  62,  46],\n",
       "        [ 78,  78,  66],\n",
       "        [113, 113,  96],\n",
       "        ...,\n",
       "        [ 57,  59,  36],\n",
       "        [ 86,  83,  65],\n",
       "        [ 95,  90,  80]],\n",
       "\n",
       "       [[ 64,  64,  50],\n",
       "        [ 81,  82,  68],\n",
       "        [ 93,  97,  77],\n",
       "        ...,\n",
       "        [ 61,  65,  41],\n",
       "        [ 95,  93,  73],\n",
       "        [115, 111, 101]],\n",
       "\n",
       "       ...,\n",
       "\n",
       "       [[149, 124, 113],\n",
       "        [124, 107,  97],\n",
       "        [148, 130, 119],\n",
       "        ...,\n",
       "        [143, 117, 107],\n",
       "        [118,  94,  81],\n",
       "        [ 94,  73,  62]],\n",
       "\n",
       "       [[107,  88,  84],\n",
       "        [129, 101,  91],\n",
       "        [123, 105,  98],\n",
       "        ...,\n",
       "        [148, 124, 117],\n",
       "        [123,  97,  88],\n",
       "        [119,  99,  91]],\n",
       "\n",
       "       [[ 99,  78,  73],\n",
       "        [141, 111,  99],\n",
       "        [ 99,  81,  76],\n",
       "        ...,\n",
       "        [116,  87,  72],\n",
       "        [121,  94,  82],\n",
       "        [124, 104,  96]]], dtype=uint8)"
      ]
     },
     "metadata": {},
     "execution_count": 8
    }
   ],
   "source": [
    "x_train[100]"
   ]
  },
  {
   "cell_type": "code",
   "execution_count": 9,
   "metadata": {},
   "outputs": [
    {
     "output_type": "execute_result",
     "data": {
      "text/plain": [
       "1"
      ]
     },
     "metadata": {},
     "execution_count": 9
    }
   ],
   "source": [
    "y_train[100]"
   ]
  },
  {
   "cell_type": "code",
   "execution_count": 3,
   "metadata": {},
   "outputs": [
    {
     "output_type": "display_data",
     "data": {
      "text/plain": "<Figure size 432x288 with 1 Axes>",
      "image/svg+xml": "<?xml version=\"1.0\" encoding=\"utf-8\" standalone=\"no\"?>\n<!DOCTYPE svg PUBLIC \"-//W3C//DTD SVG 1.1//EN\"\n  \"http://www.w3.org/Graphics/SVG/1.1/DTD/svg11.dtd\">\n<!-- Created with matplotlib (https://matplotlib.org/) -->\n<svg height=\"250.142944pt\" version=\"1.1\" viewBox=\"0 0 251.565 250.142944\" width=\"251.565pt\" xmlns=\"http://www.w3.org/2000/svg\" xmlns:xlink=\"http://www.w3.org/1999/xlink\">\n <metadata>\n  <rdf:RDF xmlns:cc=\"http://creativecommons.org/ns#\" xmlns:dc=\"http://purl.org/dc/elements/1.1/\" xmlns:rdf=\"http://www.w3.org/1999/02/22-rdf-syntax-ns#\">\n   <cc:Work>\n    <dc:type rdf:resource=\"http://purl.org/dc/dcmitype/StillImage\"/>\n    <dc:date>2021-04-19T21:48:40.658543</dc:date>\n    <dc:format>image/svg+xml</dc:format>\n    <dc:creator>\n     <cc:Agent>\n      <dc:title>Matplotlib v3.3.4, https://matplotlib.org/</dc:title>\n     </cc:Agent>\n    </dc:creator>\n   </cc:Work>\n  </rdf:RDF>\n </metadata>\n <defs>\n  <style type=\"text/css\">*{stroke-linecap:butt;stroke-linejoin:round;}</style>\n </defs>\n <g id=\"figure_1\">\n  <g id=\"patch_1\">\n   <path d=\"M 0 250.142944 \nL 251.565 250.142944 \nL 251.565 0 \nL 0 0 \nz\n\" style=\"fill:none;\"/>\n  </g>\n  <g id=\"axes_1\">\n   <g id=\"patch_2\">\n    <path d=\"M 26.925 226.264819 \nL 244.365 226.264819 \nL 244.365 8.824819 \nL 26.925 8.824819 \nz\n\" style=\"fill:#ffffff;\"/>\n   </g>\n   <g clip-path=\"url(#p91ba650f74)\">\n    <image height=\"218\" id=\"image3f1e57e6b7\" transform=\"scale(1 -1)translate(0 -218)\" width=\"218\" x=\"26.925\" xlink:href=\"data:image/png;base64,\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\" y=\"-8.264819\"/>\n   </g>\n   <g id=\"matplotlib.axis_1\">\n    <g id=\"xtick_1\">\n     <g id=\"line2d_1\">\n      <defs>\n       <path d=\"M 0 0 \nL 0 3.5 \n\" id=\"mad02ebd4e5\" style=\"stroke:#000000;stroke-width:0.8;\"/>\n      </defs>\n      <g>\n       <use style=\"stroke:#000000;stroke-width:0.8;\" x=\"29.0994\" xlink:href=\"#mad02ebd4e5\" y=\"226.264819\"/>\n      </g>\n     </g>\n     <g id=\"text_1\">\n      <!-- 0 -->\n      <g transform=\"translate(25.91815 240.863256)scale(0.1 -0.1)\">\n       <defs>\n        <path d=\"M 31.78125 66.40625 \nQ 24.171875 66.40625 20.328125 58.90625 \nQ 16.5 51.421875 16.5 36.375 \nQ 16.5 21.390625 20.328125 13.890625 \nQ 24.171875 6.390625 31.78125 6.390625 \nQ 39.453125 6.390625 43.28125 13.890625 \nQ 47.125 21.390625 47.125 36.375 \nQ 47.125 51.421875 43.28125 58.90625 \nQ 39.453125 66.40625 31.78125 66.40625 \nz\nM 31.78125 74.21875 \nQ 44.046875 74.21875 50.515625 64.515625 \nQ 56.984375 54.828125 56.984375 36.375 \nQ 56.984375 17.96875 50.515625 8.265625 \nQ 44.046875 -1.421875 31.78125 -1.421875 \nQ 19.53125 -1.421875 13.0625 8.265625 \nQ 6.59375 17.96875 6.59375 36.375 \nQ 6.59375 54.828125 13.0625 64.515625 \nQ 19.53125 74.21875 31.78125 74.21875 \nz\n\" id=\"DejaVuSans-48\"/>\n       </defs>\n       <use xlink:href=\"#DejaVuSans-48\"/>\n      </g>\n     </g>\n    </g>\n    <g id=\"xtick_2\">\n     <g id=\"line2d_2\">\n      <g>\n       <use style=\"stroke:#000000;stroke-width:0.8;\" x=\"72.5874\" xlink:href=\"#mad02ebd4e5\" y=\"226.264819\"/>\n      </g>\n     </g>\n     <g id=\"text_2\">\n      <!-- 10 -->\n      <g transform=\"translate(66.2249 240.863256)scale(0.1 -0.1)\">\n       <defs>\n        <path d=\"M 12.40625 8.296875 \nL 28.515625 8.296875 \nL 28.515625 63.921875 \nL 10.984375 60.40625 \nL 10.984375 69.390625 \nL 28.421875 72.90625 \nL 38.28125 72.90625 \nL 38.28125 8.296875 \nL 54.390625 8.296875 \nL 54.390625 0 \nL 12.40625 0 \nz\n\" id=\"DejaVuSans-49\"/>\n       </defs>\n       <use xlink:href=\"#DejaVuSans-49\"/>\n       <use x=\"63.623047\" xlink:href=\"#DejaVuSans-48\"/>\n      </g>\n     </g>\n    </g>\n    <g id=\"xtick_3\">\n     <g id=\"line2d_3\">\n      <g>\n       <use style=\"stroke:#000000;stroke-width:0.8;\" x=\"116.0754\" xlink:href=\"#mad02ebd4e5\" y=\"226.264819\"/>\n      </g>\n     </g>\n     <g id=\"text_3\">\n      <!-- 20 -->\n      <g transform=\"translate(109.7129 240.863256)scale(0.1 -0.1)\">\n       <defs>\n        <path d=\"M 19.1875 8.296875 \nL 53.609375 8.296875 \nL 53.609375 0 \nL 7.328125 0 \nL 7.328125 8.296875 \nQ 12.9375 14.109375 22.625 23.890625 \nQ 32.328125 33.6875 34.8125 36.53125 \nQ 39.546875 41.84375 41.421875 45.53125 \nQ 43.3125 49.21875 43.3125 52.78125 \nQ 43.3125 58.59375 39.234375 62.25 \nQ 35.15625 65.921875 28.609375 65.921875 \nQ 23.96875 65.921875 18.8125 64.3125 \nQ 13.671875 62.703125 7.8125 59.421875 \nL 7.8125 69.390625 \nQ 13.765625 71.78125 18.9375 73 \nQ 24.125 74.21875 28.421875 74.21875 \nQ 39.75 74.21875 46.484375 68.546875 \nQ 53.21875 62.890625 53.21875 53.421875 \nQ 53.21875 48.921875 51.53125 44.890625 \nQ 49.859375 40.875 45.40625 35.40625 \nQ 44.1875 33.984375 37.640625 27.21875 \nQ 31.109375 20.453125 19.1875 8.296875 \nz\n\" id=\"DejaVuSans-50\"/>\n       </defs>\n       <use xlink:href=\"#DejaVuSans-50\"/>\n       <use x=\"63.623047\" xlink:href=\"#DejaVuSans-48\"/>\n      </g>\n     </g>\n    </g>\n    <g id=\"xtick_4\">\n     <g id=\"line2d_4\">\n      <g>\n       <use style=\"stroke:#000000;stroke-width:0.8;\" x=\"159.5634\" xlink:href=\"#mad02ebd4e5\" y=\"226.264819\"/>\n      </g>\n     </g>\n     <g id=\"text_4\">\n      <!-- 30 -->\n      <g transform=\"translate(153.2009 240.863256)scale(0.1 -0.1)\">\n       <defs>\n        <path d=\"M 40.578125 39.3125 \nQ 47.65625 37.796875 51.625 33 \nQ 55.609375 28.21875 55.609375 21.1875 \nQ 55.609375 10.40625 48.1875 4.484375 \nQ 40.765625 -1.421875 27.09375 -1.421875 \nQ 22.515625 -1.421875 17.65625 -0.515625 \nQ 12.796875 0.390625 7.625 2.203125 \nL 7.625 11.71875 \nQ 11.71875 9.328125 16.59375 8.109375 \nQ 21.484375 6.890625 26.8125 6.890625 \nQ 36.078125 6.890625 40.9375 10.546875 \nQ 45.796875 14.203125 45.796875 21.1875 \nQ 45.796875 27.640625 41.28125 31.265625 \nQ 36.765625 34.90625 28.71875 34.90625 \nL 20.21875 34.90625 \nL 20.21875 43.015625 \nL 29.109375 43.015625 \nQ 36.375 43.015625 40.234375 45.921875 \nQ 44.09375 48.828125 44.09375 54.296875 \nQ 44.09375 59.90625 40.109375 62.90625 \nQ 36.140625 65.921875 28.71875 65.921875 \nQ 24.65625 65.921875 20.015625 65.03125 \nQ 15.375 64.15625 9.8125 62.3125 \nL 9.8125 71.09375 \nQ 15.4375 72.65625 20.34375 73.4375 \nQ 25.25 74.21875 29.59375 74.21875 \nQ 40.828125 74.21875 47.359375 69.109375 \nQ 53.90625 64.015625 53.90625 55.328125 \nQ 53.90625 49.265625 50.4375 45.09375 \nQ 46.96875 40.921875 40.578125 39.3125 \nz\n\" id=\"DejaVuSans-51\"/>\n       </defs>\n       <use xlink:href=\"#DejaVuSans-51\"/>\n       <use x=\"63.623047\" xlink:href=\"#DejaVuSans-48\"/>\n      </g>\n     </g>\n    </g>\n    <g id=\"xtick_5\">\n     <g id=\"line2d_5\">\n      <g>\n       <use style=\"stroke:#000000;stroke-width:0.8;\" x=\"203.0514\" xlink:href=\"#mad02ebd4e5\" y=\"226.264819\"/>\n      </g>\n     </g>\n     <g id=\"text_5\">\n      <!-- 40 -->\n      <g transform=\"translate(196.6889 240.863256)scale(0.1 -0.1)\">\n       <defs>\n        <path d=\"M 37.796875 64.3125 \nL 12.890625 25.390625 \nL 37.796875 25.390625 \nz\nM 35.203125 72.90625 \nL 47.609375 72.90625 \nL 47.609375 25.390625 \nL 58.015625 25.390625 \nL 58.015625 17.1875 \nL 47.609375 17.1875 \nL 47.609375 0 \nL 37.796875 0 \nL 37.796875 17.1875 \nL 4.890625 17.1875 \nL 4.890625 26.703125 \nz\n\" id=\"DejaVuSans-52\"/>\n       </defs>\n       <use xlink:href=\"#DejaVuSans-52\"/>\n       <use x=\"63.623047\" xlink:href=\"#DejaVuSans-48\"/>\n      </g>\n     </g>\n    </g>\n   </g>\n   <g id=\"matplotlib.axis_2\">\n    <g id=\"ytick_1\">\n     <g id=\"line2d_6\">\n      <defs>\n       <path d=\"M 0 0 \nL -3.5 0 \n\" id=\"mf24af75ec3\" style=\"stroke:#000000;stroke-width:0.8;\"/>\n      </defs>\n      <g>\n       <use style=\"stroke:#000000;stroke-width:0.8;\" x=\"26.925\" xlink:href=\"#mf24af75ec3\" y=\"10.999219\"/>\n      </g>\n     </g>\n     <g id=\"text_6\">\n      <!-- 0 -->\n      <g transform=\"translate(13.5625 14.798437)scale(0.1 -0.1)\">\n       <use xlink:href=\"#DejaVuSans-48\"/>\n      </g>\n     </g>\n    </g>\n    <g id=\"ytick_2\">\n     <g id=\"line2d_7\">\n      <g>\n       <use style=\"stroke:#000000;stroke-width:0.8;\" x=\"26.925\" xlink:href=\"#mf24af75ec3\" y=\"54.487219\"/>\n      </g>\n     </g>\n     <g id=\"text_7\">\n      <!-- 10 -->\n      <g transform=\"translate(7.2 58.286437)scale(0.1 -0.1)\">\n       <use xlink:href=\"#DejaVuSans-49\"/>\n       <use x=\"63.623047\" xlink:href=\"#DejaVuSans-48\"/>\n      </g>\n     </g>\n    </g>\n    <g id=\"ytick_3\">\n     <g id=\"line2d_8\">\n      <g>\n       <use style=\"stroke:#000000;stroke-width:0.8;\" x=\"26.925\" xlink:href=\"#mf24af75ec3\" y=\"97.975219\"/>\n      </g>\n     </g>\n     <g id=\"text_8\">\n      <!-- 20 -->\n      <g transform=\"translate(7.2 101.774437)scale(0.1 -0.1)\">\n       <use xlink:href=\"#DejaVuSans-50\"/>\n       <use x=\"63.623047\" xlink:href=\"#DejaVuSans-48\"/>\n      </g>\n     </g>\n    </g>\n    <g id=\"ytick_4\">\n     <g id=\"line2d_9\">\n      <g>\n       <use style=\"stroke:#000000;stroke-width:0.8;\" x=\"26.925\" xlink:href=\"#mf24af75ec3\" y=\"141.463219\"/>\n      </g>\n     </g>\n     <g id=\"text_9\">\n      <!-- 30 -->\n      <g transform=\"translate(7.2 145.262437)scale(0.1 -0.1)\">\n       <use xlink:href=\"#DejaVuSans-51\"/>\n       <use x=\"63.623047\" xlink:href=\"#DejaVuSans-48\"/>\n      </g>\n     </g>\n    </g>\n    <g id=\"ytick_5\">\n     <g id=\"line2d_10\">\n      <g>\n       <use style=\"stroke:#000000;stroke-width:0.8;\" x=\"26.925\" xlink:href=\"#mf24af75ec3\" y=\"184.951219\"/>\n      </g>\n     </g>\n     <g id=\"text_10\">\n      <!-- 40 -->\n      <g transform=\"translate(7.2 188.750437)scale(0.1 -0.1)\">\n       <use xlink:href=\"#DejaVuSans-52\"/>\n       <use x=\"63.623047\" xlink:href=\"#DejaVuSans-48\"/>\n      </g>\n     </g>\n    </g>\n   </g>\n   <g id=\"patch_3\">\n    <path d=\"M 26.925 226.264819 \nL 26.925 8.824819 \n\" style=\"fill:none;stroke:#000000;stroke-linecap:square;stroke-linejoin:miter;stroke-width:0.8;\"/>\n   </g>\n   <g id=\"patch_4\">\n    <path d=\"M 244.365 226.264819 \nL 244.365 8.824819 \n\" style=\"fill:none;stroke:#000000;stroke-linecap:square;stroke-linejoin:miter;stroke-width:0.8;\"/>\n   </g>\n   <g id=\"patch_5\">\n    <path d=\"M 26.925 226.264819 \nL 244.365 226.264819 \n\" style=\"fill:none;stroke:#000000;stroke-linecap:square;stroke-linejoin:miter;stroke-width:0.8;\"/>\n   </g>\n   <g id=\"patch_6\">\n    <path d=\"M 26.925 8.824819 \nL 244.365 8.824819 \n\" style=\"fill:none;stroke:#000000;stroke-linecap:square;stroke-linejoin:miter;stroke-width:0.8;\"/>\n   </g>\n  </g>\n </g>\n <defs>\n  <clipPath id=\"p91ba650f74\">\n   <rect height=\"217.44\" width=\"217.44\" x=\"26.925\" y=\"8.824819\"/>\n  </clipPath>\n </defs>\n</svg>\n",
      "image/png": "[encoded data removed]"
     },
     "metadata": {
      "needs_background": "light"
     }
    }
   ],
   "source": [
    "from PIL import Image\n",
    "import matplotlib.pyplot as plt \n",
    "import numpy as np \n",
    "\n",
    "image=Image.open('./pic1.jpg')\n",
    "image=image.convert('RGB')\n",
    "image=image.resize((50,50))\n",
    "data=np.asarray(image)\n",
    "\n",
    "plt.imshow(data)\n",
    "plt.show()"
   ]
  },
  {
   "cell_type": "code",
   "execution_count": null,
   "metadata": {},
   "outputs": [],
   "source": []
  }
 ]
}