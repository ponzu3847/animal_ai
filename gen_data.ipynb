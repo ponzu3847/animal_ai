{
 "metadata": {
  "language_info": {
   "codemirror_mode": {
    "name": "ipython",
    "version": 3
   },
   "file_extension": ".py",
   "mimetype": "text/x-python",
   "name": "python",
   "nbconvert_exporter": "python",
   "pygments_lexer": "ipython3",
   "version": "3.8.3"
  },
  "orig_nbformat": 2,
  "kernelspec": {
   "name": "python3",
   "display_name": "Python 3.8.3 64-bit ('3.8.3': pyenv)",
   "metadata": {
    "interpreter": {
     "hash": "85c15e2fd11ddf6f8f5917b197f257a455d4a542cdc5a8fe7d02a36f1aa3fc84"
    }
   }
  }
 },
 "nbformat": 4,
 "nbformat_minor": 2,
 "cells": [
  {
   "cell_type": "code",
   "execution_count": 5,
   "metadata": {},
   "outputs": [
    {
     "output_type": "stream",
     "name": "stderr",
     "text": [
      "/Users/user/.pyenv/versions/3.8.3/lib/python3.8/site-packages/numpy/core/_asarray.py:136: VisibleDeprecationWarning: Creating an ndarray from ragged nested sequences (which is a list-or-tuple of lists-or-tuples-or ndarrays with different lengths or shapes) is deprecated. If you meant to do this, you must specify 'dtype=object' when creating the ndarray\n  return array(a, dtype, copy=False, order=order, subok=True)\n"
     ]
    }
   ],
   "source": [
    "from PIL import Image\n",
    "import os,glob\n",
    "import numpy as np\n",
    "from sklearn import model_selection\n",
    "\n",
    "classes=['monkey','boar','crow']\n",
    "num_classes=len(classes)\n",
    "image_size=50\n",
    "\n",
    "X=[]\n",
    "Y=[]\n",
    "\n",
    "for index,class_label in enumerate(classes):\n",
    "    photos_dir='./'+class_label\n",
    "    files=glob.glob(photos_dir+'/*.jpg')\n",
    "    for i,file in enumerate(files):\n",
    "        if i >=200: break\n",
    "        image=Image.open(file)\n",
    "        image=image.convert('RGB')\n",
    "        image=image.resize((image_size,image_size))\n",
    "        data=np.asarray(image)\n",
    "        X.append(data)\n",
    "        Y.append(index)\n",
    "\n",
    "X=np.array(X)\n",
    "Y=np.array(Y)\n",
    "\n",
    "x_train,x_test,y_train,y_test=model_selection.train_test_split(X,Y)\n",
    "xy=(x_train,x_test,y_train,y_test)\n",
    "np.save('animal.npy',xy)"
   ]
  },
  {
   "cell_type": "code",
   "execution_count": 3,
   "metadata": {},
   "outputs": [
    {
     "output_type": "execute_result",
     "data": {
      "text/plain": [
       "(600, 50, 50, 3)"
      ]
     },
     "metadata": {},
     "execution_count": 3
    }
   ],
   "source": [
    "X.shape"
   ]
  },
  {
   "cell_type": "code",
   "execution_count": 4,
   "metadata": {},
   "outputs": [
    {
     "output_type": "execute_result",
     "data": {
      "text/plain": [
       "(600,)"
      ]
     },
     "metadata": {},
     "execution_count": 4
    }
   ],
   "source": [
    "Y.shape"
   ]
  },
  {
   "cell_type": "code",
   "execution_count": 6,
   "metadata": {},
   "outputs": [
    {
     "output_type": "execute_result",
     "data": {
      "text/plain": [
       "(450, 50, 50, 3)"
      ]
     },
     "metadata": {},
     "execution_count": 6
    }
   ],
   "source": [
    "x_train.shape"
   ]
  },
  {
   "cell_type": "code",
   "execution_count": 7,
   "metadata": {},
   "outputs": [
    {
     "output_type": "execute_result",
     "data": {
      "text/plain": [
       "(150, 50, 50, 3)"
      ]
     },
     "metadata": {},
     "execution_count": 7
    }
   ],
   "source": [
    "x_test.shape"
   ]
  },
  {
   "cell_type": "code",
   "execution_count": 8,
   "metadata": {},
   "outputs": [
    {
     "output_type": "execute_result",
     "data": {
      "text/plain": [
       "array([[[ 77,  79,  56],\n",
       "        [ 97,  96,  79],\n",
       "        [105, 104,  81],\n",
       "        ...,\n",
       "        [ 53,  54,  28],\n",
       "        [ 92,  86,  64],\n",
       "        [113, 107,  91]],\n",
       "\n",
       "       [[ 62,  62,  46],\n",
       "        [ 78,  78,  66],\n",
       "        [113, 113,  96],\n",
       "        ...,\n",
       "        [ 57,  59,  36],\n",
       "        [ 86,  83,  65],\n",
       "        [ 95,  90,  80]],\n",
       "\n",
       "       [[ 64,  64,  50],\n",
       "        [ 81,  82,  68],\n",
       "        [ 93,  97,  77],\n",
       "        ...,\n",
       "        [ 61,  65,  41],\n",
       "        [ 95,  93,  73],\n",
       "        [115, 111, 101]],\n",
       "\n",
       "       ...,\n",
       "\n",
       "       [[149, 124, 113],\n",
       "        [124, 107,  97],\n",
       "        [148, 130, 119],\n",
       "        ...,\n",
       "        [143, 117, 107],\n",
       "        [118,  94,  81],\n",
       "        [ 94,  73,  62]],\n",
       "\n",
       "       [[107,  88,  84],\n",
       "        [129, 101,  91],\n",
       "        [123, 105,  98],\n",
       "        ...,\n",
       "        [148, 124, 117],\n",
       "        [123,  97,  88],\n",
       "        [119,  99,  91]],\n",
       "\n",
       "       [[ 99,  78,  73],\n",
       "        [141, 111,  99],\n",
       "        [ 99,  81,  76],\n",
       "        ...,\n",
       "        [116,  87,  72],\n",
       "        [121,  94,  82],\n",
       "        [124, 104,  96]]], dtype=uint8)"
      ]
     },
     "metadata": {},
     "execution_count": 8
    }
   ],
   "source": [
    "x_train[100]"
   ]
  },
  {
   "cell_type": "code",
   "execution_count": 9,
   "metadata": {},
   "outputs": [
    {
     "output_type": "execute_result",
     "data": {
      "text/plain": [
       "1"
      ]
     },
     "metadata": {},
     "execution_count": 9
    }
   ],
   "source": [
    "y_train[100]"
   ]
  },
  {
   "cell_type": "code",
   "execution_count": null,
   "metadata": {},
   "outputs": [],
   "source": []
  }
 ]
}